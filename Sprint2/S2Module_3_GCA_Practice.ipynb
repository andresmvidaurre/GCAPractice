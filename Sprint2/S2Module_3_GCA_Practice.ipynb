{
 "cells": [
  {
   "cell_type": "markdown",
   "metadata": {},
   "source": [
    "Task 1:\n",
    "Create a 2D array of size row_count x col_count. Fill the array with 0."
   ]
  },
  {
   "cell_type": "code",
   "execution_count": null,
   "metadata": {},
   "outputs": [],
   "source": [
    "def solution(row_count, col_count):\n",
    "    m = []      \n",
    "    for i in range(row_count):\n",
    "        row = []\n",
    "        for j in range(col_count):\n",
    "            row.append(0)\n",
    "        m.append(row)\n",
    "    return m\n"
   ]
  },
  {
   "cell_type": "markdown",
   "metadata": {},
   "source": [
    "Task 2:\n",
    "Create a square 2D array of size size x size. Fill the array with 0.\n",
    "\n",
    "Then draw a line of 1s down the main diagonal.\n",
    "\n",
    "This is called an identity matrix."
   ]
  },
  {
   "cell_type": "code",
   "execution_count": null,
   "metadata": {},
   "outputs": [],
   "source": [
    "def solution(size):\n",
    "    m = []\n",
    "    for i in range(size):\n",
    "        row = []\n",
    "        for j in range(size):\n",
    "            if i !=j:\n",
    "                row.append(0)\n",
    "            else:\n",
    "                row.append(1)\n",
    "        m.append(row)\n",
    "    return m"
   ]
  },
  {
   "cell_type": "markdown",
   "metadata": {},
   "source": [
    "Task 3:\n",
    "There is a bug in one line of the code. Find it, fix it, and submit.\n",
    "Given a rectangular matrix of characters, add a border of asterisks(*) to it."
   ]
  },
  {
   "cell_type": "code",
   "execution_count": null,
   "metadata": {},
   "outputs": [],
   "source": [
    "def solution(picture):\n",
    "\n",
    "    answer = ['']\n",
    "\n",
    "    for i in range((len(picture[0])+2)):\n",
    "        answer[0] += '*'\n",
    "\n",
    "    for i in range(len(picture)):\n",
    "        answer.append('*')\n",
    "        for j in range(len(picture[0])):\n",
    "            answer[i + 1] += picture[i][j]\n",
    "        answer[i + 1] += '*'\n",
    "\n",
    "    answer.append(answer[0])\n",
    "\n",
    "    return answer"
   ]
  },
  {
   "cell_type": "markdown",
   "metadata": {},
   "source": [
    "Task 4:\n"
   ]
  },
  {
   "cell_type": "markdown",
   "metadata": {},
   "source": [
    "Task 5:"
   ]
  },
  {
   "cell_type": "markdown",
   "metadata": {},
   "source": [
    "Task 6:"
   ]
  },
  {
   "cell_type": "markdown",
   "metadata": {},
   "source": [
    "Task 7:"
   ]
  },
  {
   "cell_type": "markdown",
   "metadata": {},
   "source": [
    "Task 8:"
   ]
  },
  {
   "cell_type": "markdown",
   "metadata": {},
   "source": [
    "Task 9:"
   ]
  }
 ],
 "metadata": {
  "language_info": {
   "name": "python"
  },
  "orig_nbformat": 4
 },
 "nbformat": 4,
 "nbformat_minor": 2
}
