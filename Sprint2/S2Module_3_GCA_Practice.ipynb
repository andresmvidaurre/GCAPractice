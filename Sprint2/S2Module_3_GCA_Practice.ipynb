{
 "cells": [
  {
   "cell_type": "markdown",
   "metadata": {},
   "source": [
    "Task 1:\n",
    "Create a 2D array of size row_count x col_count. Fill the array with 0."
   ]
  },
  {
   "cell_type": "code",
   "execution_count": null,
   "metadata": {},
   "outputs": [],
   "source": [
    "def solution(row_count, col_count):\n",
    "    m = []      \n",
    "    for i in range(row_count):\n",
    "        row = []\n",
    "        for j in range(col_count):\n",
    "            row.append(0)\n",
    "        m.append(row)\n",
    "    return m\n"
   ]
  },
  {
   "cell_type": "markdown",
   "metadata": {},
   "source": [
    "Task 2:\n",
    "Create a square 2D array of size size x size. Fill the array with 0.\n",
    "\n",
    "Then draw a line of 1s down the main diagonal.\n",
    "\n",
    "This is called an identity matrix."
   ]
  },
  {
   "cell_type": "code",
   "execution_count": null,
   "metadata": {},
   "outputs": [],
   "source": [
    "def solution(size):\n",
    "    m = []\n",
    "    for i in range(size):\n",
    "        row = []\n",
    "        for j in range(size):\n",
    "            if i !=j:\n",
    "                row.append(0)\n",
    "            else:\n",
    "                row.append(1)\n",
    "        m.append(row)\n",
    "    return m"
   ]
  },
  {
   "cell_type": "markdown",
   "metadata": {},
   "source": [
    "Task 3:\n",
    "There is a bug in one line of the code. Find it, fix it, and submit.\n",
    "Given a rectangular matrix of characters, add a border of asterisks(*) to it."
   ]
  },
  {
   "cell_type": "code",
   "execution_count": null,
   "metadata": {},
   "outputs": [],
   "source": [
    "def solution(picture):\n",
    "\n",
    "    answer = ['']\n",
    "\n",
    "    for i in range((len(picture[0])+2)):\n",
    "        answer[0] += '*'\n",
    "\n",
    "    for i in range(len(picture)):\n",
    "        answer.append('*')\n",
    "        for j in range(len(picture[0])):\n",
    "            answer[i + 1] += picture[i][j]\n",
    "        answer[i + 1] += '*'\n",
    "\n",
    "    answer.append(answer[0])\n",
    "\n",
    "    return answer"
   ]
  },
  {
   "cell_type": "markdown",
   "metadata": {},
   "source": [
    "Task 4:\n",
    "Return a substring (part of a string) between two indexes.\n",
    "\n",
    "The substring from index a up to (but not including) index b should be returned.\n",
    "\n",
    "If a is less than 0, treat it like 0.\n",
    "\n",
    "If b is greater than the length of the string, treat it like the length of the string.\n",
    "\n",
    "If b is less than a, return an empty string."
   ]
  },
  {
   "cell_type": "code",
   "execution_count": null,
   "metadata": {},
   "outputs": [],
   "source": [
    "def solution(s, a, b):\n",
    "    if a < 0:\n",
    "        a = 0\n",
    "    if b > len(s):\n",
    "        b = len(s)\n",
    "    if b < a:\n",
    "        return ''\n",
    "    return s[a:b]"
   ]
  },
  {
   "cell_type": "markdown",
   "metadata": {},
   "source": [
    "Task 5:\n",
    "Given a number, return the number of digits.\n",
    "\n",
    "You may not use strings to solve this challenge.\n",
    "\n",
    "You might have to get mathy for this one."
   ]
  },
  {
   "cell_type": "code",
   "execution_count": null,
   "metadata": {},
   "outputs": [],
   "source": [
    "def solution(n):\n",
    "    count = 0\n",
    "    while n > 0:\n",
    "        n //= 10\n",
    "        count += 1\n",
    "    return count"
   ]
  },
  {
   "cell_type": "markdown",
   "metadata": {},
   "source": [
    "Task 6:\n",
    "Codewriting\n",
    "\n",
    "Description\n",
    "Write a function that builds an n x n multiplication table.\n",
    "\n",
    "The result will be a 2D array. The 0th row and column of the table begin with 1 and end with n."
   ]
  },
  {
   "cell_type": "code",
   "execution_count": null,
   "metadata": {},
   "outputs": [],
   "source": [
    "def solution(n):\n",
    "    m = []\n",
    "    for row in range(1,n+1):\n",
    "        x = []\n",
    "        for col in range(1,n+1):\n",
    "            p = (row*col)\n",
    "            print(row, col, p)\n",
    "            x.append(p)\n",
    "            print(x)\n",
    "        m.append(x)\n",
    "    return m"
   ]
  },
  {
   "cell_type": "markdown",
   "metadata": {},
   "source": [
    "Task 7:\n",
    "This function should scan an array for certain elements and remove them."
   ]
  },
  {
   "cell_type": "code",
   "execution_count": null,
   "metadata": {},
   "outputs": [],
   "source": [
    "def solution(a, x):\n",
    "    b = []\n",
    "    for i in a:\n",
    "        if i != x:\n",
    "            b.append(i)\n",
    "    return b"
   ]
  },
  {
   "cell_type": "markdown",
   "metadata": {},
   "source": [
    "Task 8:\n",
    "You have an array p of points on a Cartesian plane. Find and return the minimum possible Euclidian distance between two points with different indices in p."
   ]
  },
  {
   "cell_type": "code",
   "execution_count": null,
   "metadata": {},
   "outputs": [],
   "source": [
    "def solution(p):\n",
    "    import numpy as np\n",
    "    min_dis = 10**6\n",
    "    count = 0\n",
    "    if len(p) < 100:\n",
    "        for i in range(len(p)-1):\n",
    "            point = p[i]\n",
    "            left = len(p) - 1 - i\n",
    "            #print(left)\n",
    "            while left > 0:\n",
    "                other = p[left+i]\n",
    "                a = point[0] - other[0]\n",
    "                b = point[1] - other[1]\n",
    "                c = np.sqrt(a**2 + b**2)\n",
    "                if c < min_dis:\n",
    "                    min_dis = c\n",
    "                left -= 1\n",
    "                count += 1\n",
    "        return min_dis\n",
    "    else:\n",
    "        p = sorted(p)\n",
    "        for i in range(3, len(p)-3):\n",
    "            point = p[i]\n",
    "            closest = (p[i-1], p[i-2], p[i+1], p[i+2])\n",
    "            for other in closest:\n",
    "                a = point[0] - other[0]\n",
    "                b = point[1] - other[1]\n",
    "                c = np.sqrt(a**2 + b**2)\n",
    "                if c < min_dis:\n",
    "                    min_dis = c\n",
    "                count += 1\n",
    "        print(count)\n",
    "        return min_dis"
   ]
  },
  {
   "cell_type": "code",
   "execution_count": null,
   "metadata": {},
   "outputs": [],
   "source": [
    "# Alternate Solution\n",
    "def distance(p1, p2):\n",
    "    d = (((p2[0]-p1[0])**2) + ((p2[1]-p1[1])**2))** .5\n",
    "    return d\n",
    "    \n",
    "def solution(p):\n",
    "    a = []\n",
    "    for row in range(0,len(p)-1):\n",
    "        count = 1\n",
    "        while count < len(p):\n",
    "            if row+count >= len(p):\n",
    "                break\n",
    "            b = distance(p[row], p[row+count])\n",
    "            count += 1\n",
    "            a.append(b)\n",
    "    return min(a)"
   ]
  },
  {
   "cell_type": "code",
   "execution_count": null,
   "metadata": {},
   "outputs": [],
   "source": [
    "# Alternate Solution\n",
    "def solution(p):\n",
    "    distances = []\n",
    "    for i in range(0, len(p) - 1):\n",
    "        for j in range(1, len(p) - i):\n",
    "            distances.append(((p[i][0] - p[i + j][0])**2 + (p[i][1] - p[i + j][1])**2)**0.5)\n",
    "\n",
    "    return min(distances)"
   ]
  },
  {
   "cell_type": "markdown",
   "metadata": {},
   "source": [
    "Task 9:\n",
    "An odometer palindrome is the when the mileage on your odometer is the same when the digits are reversed. For example, 123321.\n",
    "\n",
    "Assume your odometer is 6 digits and does not show 10ths of miles/kilometers.\n",
    "\n",
    "The question is, for a given current odometer reading, when is the next odometer palindrome?\n",
    "\n",
    "If the odometer is currently at a palindrome, we're still interested in the next one.\n",
    "\n",
    "The input is an integer, but the result should be a string padding with leading zeros to 6 places."
   ]
  },
  {
   "cell_type": "code",
   "execution_count": null,
   "metadata": {},
   "outputs": [],
   "source": [
    "def solution(current):\n",
    "    while current <= 999999:\n",
    "      current += 1\n",
    "      pad = str(current).zfill(6)\n",
    "      # pad = 6 - len(s)\n",
    "      # s = '0'*pad + s\n",
    "      if is_palindrome(pad):\n",
    "         return pad\n",
    "\n",
    "    # if control reaches here we rolled over\n",
    "    return \"000000\"\n",
    "\n",
    "def is_palindrome(x):\n",
    "    forward = x\n",
    "    # backward = ''.join([c for c in reversed(str(x))])\n",
    "    backward = x[::-1]\n",
    "    return forward == backward"
   ]
  }
 ],
 "metadata": {
  "language_info": {
   "name": "python"
  },
  "orig_nbformat": 4
 },
 "nbformat": 4,
 "nbformat_minor": 2
}
