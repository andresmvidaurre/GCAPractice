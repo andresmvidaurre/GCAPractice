{
 "cells": [
  {
   "cell_type": "markdown",
   "metadata": {},
   "source": [
    "Task 1:\n",
    "Return true if a string is a palindrome.\n",
    "\n",
    "A palindrome is a word that is spelled the same forward and backward.\n",
    "\n",
    "An empty string is a palindrome."
   ]
  },
  {
   "cell_type": "code",
   "execution_count": 4,
   "metadata": {},
   "outputs": [],
   "source": [
    "def solution(s):\n",
    "    revs = s[::-1]\n",
    "    return s == revs"
   ]
  },
  {
   "cell_type": "markdown",
   "metadata": {},
   "source": [
    "Task 2:\n",
    "Return a number with its digits reversed.\n",
    "\n",
    "The return value should be an integer."
   ]
  },
  {
   "cell_type": "code",
   "execution_count": null,
   "metadata": {},
   "outputs": [],
   "source": [
    "def solution(n):\n",
    "    rev = 0\n",
    "    \n",
    "    while n > 0:\n",
    "        a = n % 10\n",
    "        rev = rev * 10 + a\n",
    "        n //= 10\n",
    "    return rev"
   ]
  },
  {
   "cell_type": "markdown",
   "metadata": {},
   "source": [
    "Task 3:\n",
    "This function accepts an array. It should return true if the array elements read the same forward and backward, i.e. if the array is a palindrome.\n",
    "\n",
    "An empty array is a palindrome.This function accepts an array. It should return true if the array elements read the same forward and backward, i.e. if the array is a palindrome.\n",
    "\n",
    "An empty array is a palindrome."
   ]
  },
  {
   "cell_type": "code",
   "execution_count": null,
   "metadata": {},
   "outputs": [],
   "source": [
    "def solution(a):\n",
    "    b = a[::-1]\n",
    "    return b == a"
   ]
  },
  {
   "cell_type": "markdown",
   "metadata": {},
   "source": [
    "Task 4:\n",
    "Given an input array a determine the length of the leading \"run\" of numbers. The run is how many numbers at the front of the array are the same.\n",
    "\n",
    "If the array is empty, return 0."
   ]
  },
  {
   "cell_type": "code",
   "execution_count": null,
   "metadata": {},
   "outputs": [],
   "source": [
    "def solution(a):\n",
    "    if len(a) == 0:\n",
    "        count = 0\n",
    "    else:\n",
    "        count = 1\n",
    "        for i in range(len(a)-1):\n",
    "            if a[i] == a[i+1]:\n",
    "                count += 1\n",
    "            else:\n",
    "                break\n",
    "    return count"
   ]
  },
  {
   "cell_type": "markdown",
   "metadata": {},
   "source": [
    "Task 5:\n",
    "Return a slice of array a starting from index start and ending before index end.\n",
    "\n",
    "If end is less than or equal to start, return an empty array.\n",
    "\n",
    "Note that start and end could be beyond the length of the array. They should be clamped between 0 and the length of the array minus 1."
   ]
  },
  {
   "cell_type": "code",
   "execution_count": null,
   "metadata": {},
   "outputs": [],
   "source": [
    "def solution(a, start, end):\n",
    "    arr = []\n",
    "    if end <= start:\n",
    "        return arr\n",
    "    else:\n",
    "        if start < 0:\n",
    "            start = 0\n",
    "        if end > len(a)-1:\n",
    "            end = len(a)\n",
    "        for i in range(start, end):\n",
    "            arr.append(a[i])\n",
    "        return arr"
   ]
  },
  {
   "cell_type": "markdown",
   "metadata": {},
   "source": [
    "Task 6:\n",
    "Examine an array and determine the length of the longest run of elements. That is, the most of a particular element seen in a row."
   ]
  },
  {
   "cell_type": "code",
   "execution_count": null,
   "metadata": {},
   "outputs": [],
   "source": [
    "def solution(a):\n",
    "    count = 1\n",
    "    maxcount = 1\n",
    "    if len(a) == 0:\n",
    "        maxcount = 0\n",
    "    else:\n",
    "        for i in range(len(a) - 1):\n",
    "            if a[i] == a[i + 1]:\n",
    "                count += 1\n",
    "            else:\n",
    "                count = 1\n",
    "            if maxcount <= count:\n",
    "                maxcount = count\n",
    "    return maxcount"
   ]
  },
  {
   "cell_type": "markdown",
   "metadata": {},
   "source": [
    "Task 7:\n",
    "Run-length encoding algorithm (RLE) works by taking the occurrence of each repeating character and outputting that number along with a single character of the repeating sequence.\n",
    "\n",
    "You need to implement an algorithm that applies the RLE to a given string."
   ]
  },
  {
   "cell_type": "code",
   "execution_count": null,
   "metadata": {},
   "outputs": [],
   "source": [
    "def solution(inputString):\n",
    "    current_run = 0\n",
    "    run_char = inputString[0]\n",
    "    result = ''\n",
    "    for c in inputString:\n",
    "        print(run_char, current_run, c)\n",
    "        if run_char != c:\n",
    "            result += str(current_run) + run_char\n",
    "            current_run = 1\n",
    "            run_char = c\n",
    "            print(result)\n",
    "        else:\n",
    "            current_run += 1\n",
    "            print(result)\n",
    "        print(result)\n",
    "    result += str(current_run) + run_char\n",
    "    print(result)\n",
    "    return result"
   ]
  }
 ],
 "metadata": {
  "interpreter": {
   "hash": "b439bf58ee14d19d6e04c4c8ce362ca0d8eec863900a9c9b36576c50d9e33481"
  },
  "kernelspec": {
   "display_name": "Python 3.9.7 64-bit ('base': conda)",
   "language": "python",
   "name": "python3"
  },
  "language_info": {
   "codemirror_mode": {
    "name": "ipython",
    "version": 3
   },
   "file_extension": ".py",
   "mimetype": "text/x-python",
   "name": "python",
   "nbconvert_exporter": "python",
   "pygments_lexer": "ipython3",
   "version": "3.9.7"
  },
  "orig_nbformat": 4
 },
 "nbformat": 4,
 "nbformat_minor": 2
}
