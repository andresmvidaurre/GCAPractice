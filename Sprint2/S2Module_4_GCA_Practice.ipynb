{
 "cells": [
  {
   "cell_type": "markdown",
   "metadata": {},
   "source": [
    "Task 1:\n",
    "Write a function that processes an input array, returning an array with the difference between each two subsequent elements.\n",
    "\n",
    "For example, if the first two elements in the input are 10 and 6 and 15, then the first two elements in the output will be 4 and -9. (Because 10-6=4 and 6-15=-9.)\n",
    "\n",
    "Note that the output array will have one fewer elements than the input."
   ]
  },
  {
   "cell_type": "code",
   "execution_count": null,
   "metadata": {},
   "outputs": [],
   "source": [
    "def solution(a):\n",
    "    result = []\n",
    "    for i in range(len(a)-1):\n",
    "      diff = a[i] - a[i+1]\n",
    "      result.append(diff)\n",
    "    return result"
   ]
  },
  {
   "cell_type": "markdown",
   "metadata": {},
   "source": [
    "Task 2:\n",
    "Write a function that moves a \"window\" over an array, processing the values under the window as it goes.\n",
    "\n",
    "For example, a window of size 3 moving across an array of length 9 might look like this for the first 3 moves (window is the bar over the values):\n",
    "\n",
    " _____\n",
    " 6 2 8 3 7 9 1 0 5    Window over 6,2,8\n",
    "\n",
    "   _____\n",
    " 6 2 8 3 7 9 1 0 5    Window over 2,8,3\n",
    "\n",
    "     _____\n",
    " 6 2 8 3 7 9 1 0 5    Window over 8,3,7\n",
    "And the last window in that example would be 1,0,5.\n",
    "\n",
    "Your goal is to return an array of true/false values. True if all the numbers under the window are odd (not evenly divisible by 2), otherwise false.\n",
    "\n",
    "Try to do this without creating any new arrays except for the True/False result array."
   ]
  },
  {
   "cell_type": "code",
   "execution_count": null,
   "metadata": {},
   "outputs": [],
   "source": [
    "def solution(a, window_size):\n",
    "  result = []\n",
    "  iter_num = len(a) - (window_size - 1)\n",
    "  for i in range(iter_num):\n",
    "    is_all_odd = True\n",
    "    for j in range(window_size):\n",
    "      if a[i + j] % 2 == 0:\n",
    "        is_all_odd = False\n",
    "    result.append(is_all_odd) \n",
    "    \n",
    "  return result"
   ]
  },
  {
   "cell_type": "markdown",
   "metadata": {},
   "source": [
    "Task 3:\n",
    "Write a function that moves a \"window\" over an array, processing the values under the window as it goes.\n",
    "\n",
    "For example, a window of size 3 moving across an array of length 9 might look like this for the first 3 moves (window is the bar over the values):\n",
    "\n",
    " _____\n",
    " 6 2 8 3 7 9 1 0 5    Window over 6,2,8\n",
    "\n",
    "   _____\n",
    " 6 2 8 3 7 9 1 0 5    Window over 2,8,3\n",
    "\n",
    "     _____\n",
    " 6 2 8 3 7 9 1 0 5    Window over 8,3,7\n",
    "Your goal is to return an array of averages of the values under the window as it moves."
   ]
  },
  {
   "cell_type": "code",
   "execution_count": null,
   "metadata": {},
   "outputs": [],
   "source": [
    "def solution(a, window_size):\n",
    "  averages = []\n",
    "  for i in range(len(a) - (window_size -1)):\n",
    "    values = [a[i+j] for j in range(window_size)]\n",
    "    averages.append(calc_avg(values))\n",
    "  return averages \n",
    "\n",
    "def calc_avg(values):\n",
    "  return sum(values) / len(values)\n",
    "\n",
    "# Alternatively \n",
    "def solution(a, window_size):\n",
    "  result = []\n",
    "  iter_num = len(a) - (window_size -1)\n",
    "  for i in range(iter_num):\n",
    "    total = 0\n",
    "    for j in range(window_size):\n",
    "      total += a[i+j]\n",
    "    avg = total / window_size\n",
    "    result.append(avg)\n",
    "  return result"
   ]
  },
  {
   "cell_type": "markdown",
   "metadata": {},
   "source": [
    "Task 4:\n",
    "You are given an array of integers a. Your task is to calculate how many numbers in the array are equal to the arithmetic mean of their immediate neighbors.\n",
    "\n",
    "In other words, count the number of indices i such that a[i] = (a[i - 1] + a[i + 1]) / 2.\n",
    "\n",
    "Note: If a[i - 1] or a[i + 1] don't exist, they should be considered equal to 0."
   ]
  },
  {
   "cell_type": "code",
   "execution_count": null,
   "metadata": {},
   "outputs": [],
   "source": [
    "def solution(a):\n",
    "  a = [0] + a + [0]\n",
    "  count = 0 \n",
    "  for i in range(0, len(a)-2):\n",
    "    left = a[i]\n",
    "    middle = a[i+1]\n",
    "    right = a[i+2]\n",
    "    avg = (left + right) / 2\n",
    "    if middle == avg:\n",
    "      count += 1\n",
    "  return count"
   ]
  },
  {
   "cell_type": "markdown",
   "metadata": {},
   "source": [
    "Task 5:\n",
    "Implement a function that takes two strings, s and x, as arguments and finds the first occurrence of the string x in s. The function should return an integer indicating the index in s of the first occurrence of x. If there are no occurrences of x in s, return -1."
   ]
  },
  {
   "cell_type": "code",
   "execution_count": null,
   "metadata": {},
   "outputs": [],
   "source": [
    "def solution(s, x):\n",
    "    if x not in s:\n",
    "        return -1\n",
    "    else:\n",
    "        return s.index(x)"
   ]
  },
  {
   "cell_type": "markdown",
   "metadata": {},
   "source": [
    "Task 6:\n",
    "Given a string s consisting of small English letters, find and return the first instance of a non-repeating character in it. If there is no such character, return '_'."
   ]
  },
  {
   "cell_type": "code",
   "execution_count": null,
   "metadata": {},
   "outputs": [],
   "source": [
    "def solution(s):\n",
    "    for i in s: \n",
    "        if s.index(i) == s.rindex(i): # rindex() returns last index of i in s \n",
    "            return i  \n",
    "    return  '_'"
   ]
  },
  {
   "cell_type": "markdown",
   "metadata": {},
   "source": [
    "Task 7:\n",
    "You're given an array of integers a. Let's call (a[i - 1], a[i], a[i + 1]) a good tuple, if exactly 2 out of the 3 numbers in it are equal. For example, (2, 1, 2) is a good tuple, but (1, 1, 1) and (1, 2, 3) are not.\n",
    "\n",
    "Your task is to return the number of good tuples in a.\n",
    "\n",
    "Note: The tuples may be overlapping."
   ]
  },
  {
   "cell_type": "code",
   "execution_count": null,
   "metadata": {},
   "outputs": [],
   "source": [
    "def solution(a):\n",
    "    count = 0\n",
    "    for i in range(len(a)-2):\n",
    "        good_tuples = 0\n",
    "        window = [a[i], a[i+1], a[i+2]]\n",
    "        if window[0]==window[1]: good_tuples += 1\n",
    "        if window[0]==window[2]: good_tuples += 1\n",
    "        if window[1]==window[2]: good_tuples += 1\n",
    "        if good_tuples==1: count += 1\n",
    "    return count"
   ]
  },
  {
   "cell_type": "markdown",
   "metadata": {},
   "source": [
    "Task 8:\n",
    "You have a string s. Split s into the minimum possible number of increasing substrings. A substring is considered to be increasing when the next symbol in the substring is also next in the English alphabet. This is case sensitive, i.e. 'b' is next for 'a' but 'C' is not next for 'b'. Return an array of these substrings."
   ]
  },
  {
   "cell_type": "code",
   "execution_count": null,
   "metadata": {},
   "outputs": [],
   "source": [
    "def solution(s):\n",
    "    alpha='ABCDEFGHIJKLMNOPQRSTUVWXYZabcdefghijklmnopqrstuvwxyz'\n",
    "    string1= s[0]\n",
    "    results=[]\n",
    "    for j in range(1,len(s)):\n",
    "        if string1[-1].isupper()!=s[j].isupper():\n",
    "            results.append(string1)\n",
    "            string1=s[j]\n",
    "        else: \n",
    "            if alpha.index(string1[-1])+1==alpha.index(s[j]):\n",
    "                string1+=s[j]\n",
    "            else:\n",
    "                results.append(string1)\n",
    "                string1=s[j]\n",
    "    results.append(string1)\n",
    "    return results"
   ]
  }
 ],
 "metadata": {
  "language_info": {
   "name": "python"
  },
  "orig_nbformat": 4
 },
 "nbformat": 4,
 "nbformat_minor": 2
}
