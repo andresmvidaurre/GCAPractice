{
 "cells": [
  {
   "cell_type": "markdown",
   "metadata": {},
   "source": [
    "Task 1:\n",
    "Construct a string of p copies of n capital \"A\"s and m capital \"B\"s.\n",
    "\n",
    "Except if the copy number is evenly divisible by 3, in which case insert a string of p capital \"X\"s instead.\n",
    "\n",
    "Copy numbers begin with 0 for the first copy."
   ]
  },
  {
   "cell_type": "code",
   "execution_count": null,
   "metadata": {},
   "outputs": [],
   "source": [
    "def solution(p, n, m):\n",
    "    astr = 'A' * n\n",
    "    bstr = 'B' * m\n",
    "    \n",
    "    abstr = astr + bstr\n",
    "    result = ''\n",
    "    \n",
    "    for i in range(p):\n",
    "        if i % 3 == 0:\n",
    "            result += (p * 'X')\n",
    "        else:\n",
    "            result += abstr\n",
    "    return result"
   ]
  },
  {
   "cell_type": "markdown",
   "metadata": {},
   "source": [
    "Task 2:\n",
    "Return a reversed version of a string.\n",
    "\n",
    "If the string is empty, return an empty string."
   ]
  },
  {
   "cell_type": "code",
   "execution_count": null,
   "metadata": {},
   "outputs": [],
   "source": [
    "def solution(s):\n",
    "    if len(s) == 0:\n",
    "        return s\n",
    "    else:\n",
    "        rev_s = s[::-1]\n",
    "        return rev_s"
   ]
  },
  {
   "cell_type": "markdown",
   "metadata": {},
   "source": [
    "Task 3:\n",
    "This function accepts a string. It should return an array where each element is a single letter in the string, in the same order.\n",
    "\n",
    "If the input string is empty, return an empty array."
   ]
  },
  {
   "cell_type": "code",
   "execution_count": null,
   "metadata": {},
   "outputs": [],
   "source": [
    "def solution(s):\n",
    "    array = []\n",
    "    if len(s) == 0:\n",
    "        return array\n",
    "    else:\n",
    "        for i in range(len(s)):\n",
    "            array += s[i]\n",
    "        return array"
   ]
  },
  {
   "cell_type": "markdown",
   "metadata": {},
   "source": [
    "Task 4:\n",
    "Return the number of occurrences of v in array a.\n",
    "\n",
    "If the array is empty, return 0."
   ]
  },
  {
   "cell_type": "code",
   "execution_count": null,
   "metadata": {},
   "outputs": [],
   "source": [
    "def solution(a, v):\n",
    "    occ = 0\n",
    "    if len(a) == 0:\n",
    "        return 0\n",
    "    else:\n",
    "        for item in a:\n",
    "            if item == v:\n",
    "                occ += 1\n",
    "        return occ"
   ]
  },
  {
   "cell_type": "markdown",
   "metadata": {},
   "source": [
    "Task 5:\n",
    "Return true if two arrays are equal.\n",
    "\n",
    "The arrays are equal if they are the same length and contain the same value at each particular index.\n",
    "\n",
    "Two empty arrays are equal."
   ]
  },
  {
   "cell_type": "code",
   "execution_count": null,
   "metadata": {},
   "outputs": [],
   "source": [
    "def solution(a, b):\n",
    "    return a == b"
   ]
  },
  {
   "cell_type": "markdown",
   "metadata": {},
   "source": [
    "Task 6:\n",
    "Given an array and a value x, return an array with all the elements of the original except those with value x."
   ]
  },
  {
   "cell_type": "code",
   "execution_count": null,
   "metadata": {},
   "outputs": [],
   "source": [
    "def solution(a, x):\n",
    "    return [item for item in a if item != x]"
   ]
  },
  {
   "cell_type": "markdown",
   "metadata": {},
   "source": [
    "Task 7:\n",
    "Given an input array a and a second array, filter_array, produce a new array that contains only the elements of a that are not in filter_array.\n",
    "\n",
    "The elements in the result array should be in the same order that they appeared in array a."
   ]
  },
  {
   "cell_type": "code",
   "execution_count": null,
   "metadata": {},
   "outputs": [],
   "source": [
    "def solution(a, filter_list):\n",
    "    return [item for item in a if item not in filter_list]"
   ]
  },
  {
   "cell_type": "markdown",
   "metadata": {},
   "source": [
    "Task 8:\n",
    "Produce an array of n strings.\n",
    "\n",
    "Each string will contain m uppercase \"A\"s."
   ]
  },
  {
   "cell_type": "code",
   "execution_count": null,
   "metadata": {},
   "outputs": [],
   "source": [
    "def solution(n, m):\n",
    "    mstr = 'A' * m\n",
    "    newarr = []\n",
    "    print(mstr)\n",
    "    while n != 0:\n",
    "        newarr.append(mstr)\n",
    "        n-=1\n",
    "    return newarr"
   ]
  },
  {
   "cell_type": "markdown",
   "metadata": {},
   "source": [
    "Task 9:\n",
    "For two arrays a and b of the same length, let's say a is a cyclic shift of b, if it's possible for a to become equal to b by performing cyclic shift operations on a - moving 0 or more elements from the beginning of the array to the end of the array without changing the order of the elements.\n",
    "\n",
    "You are given an array of integers elements. Your task is to check whether elements is a cyclic shift of the sorted array [1, 2, ..., elements.length]. Return the number of elements you need to move to make elements equal to the sorted array. If elements is not a cyclic shift of the sorted array (it's not possible to make them equal), return -1."
   ]
  },
  {
   "cell_type": "code",
   "execution_count": null,
   "metadata": {},
   "outputs": [],
   "source": [
    "def solution(elements):\n",
    "    count = 0\n",
    "    belements = elements[:]\n",
    "    belements.sort()\n",
    "    n = len(elements)\n",
    "    if elements == belements:\n",
    "        return count\n",
    "    while (n >= -1):\n",
    "        if n == -1:\n",
    "            return -1\n",
    "        else:\n",
    "            elements.insert(len(elements), elements[0])\n",
    "            elements.pop(0)\n",
    "            n -= 1\n",
    "            count += 1\n",
    "            if elements == belements:\n",
    "                return count"
   ]
  }
 ],
 "metadata": {
  "language_info": {
   "name": "python"
  },
  "orig_nbformat": 4
 },
 "nbformat": 4,
 "nbformat_minor": 2
}
