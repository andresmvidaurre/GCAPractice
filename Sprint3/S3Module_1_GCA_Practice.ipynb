{
 "cells": [
  {
   "cell_type": "markdown",
   "metadata": {},
   "source": [
    "Task 1:\n",
    "Count the number of occurrences of certain letters in a string.\n",
    "\n",
    "We want to know the counts of each of a set of letters in the input string. For instance, we might want to know how many as, xs, and js there are.\n",
    "\n",
    "You'll return the list of requested counts as an array.\n",
    "\n",
    "If letters is an empty string, return an empty array."
   ]
  },
  {
   "cell_type": "code",
   "execution_count": null,
   "metadata": {},
   "outputs": [],
   "source": [
    "def solution(s, letters):\n",
    "    d = {}\n",
    "    for letter in letters:\n",
    "        d[letter] = 0\n",
    "        \n",
    "    for char in s:\n",
    "        if char in d:\n",
    "            d[char] += 1\n",
    "        else:\n",
    "            d[char] = 1\n",
    "            \n",
    "    result = []\n",
    "    for letter in letters:\n",
    "        result.append(d[letter])\n",
    "    return result"
   ]
  },
  {
   "cell_type": "markdown",
   "metadata": {},
   "source": [
    "Task 2:\n",
    "\n",
    "Codewriting\n",
    "\n",
    "Description\n",
    "Count all the words in a string, then produce a new string when the count of each word in parentheses follows each word.\n",
    "\n",
    "If the string is empty, return an empty string."
   ]
  },
  {
   "cell_type": "code",
   "execution_count": null,
   "metadata": {},
   "outputs": [],
   "source": [
    "def solution(s):\n",
    "    words = s.split()\n",
    "    d = {}\n",
    "    for word in words:\n",
    "        if word not in d:\n",
    "            d[word] = 1\n",
    "        else:\n",
    "            d[word] += 1\n",
    "            \n",
    "    results = []\n",
    "    for word in words:\n",
    "        results.append(f\"{word}({d[word]})\")\n",
    "    return ' '.join(results)"
   ]
  },
  {
   "cell_type": "markdown",
   "metadata": {},
   "source": [
    "Task 3:\n",
    "Given a string of lowercase words separated by single spaces, return a string with all duplicate words removed. However, the first occurrence of a duplicate word should be left in place; only the subsequent duplicates should be removed.\n",
    "\n",
    "If the string is empty, return an empty string."
   ]
  },
  {
   "cell_type": "code",
   "execution_count": null,
   "metadata": {},
   "outputs": [],
   "source": [
    "def solution(s):\n",
    "  words = s.split()\n",
    "  result = []\n",
    "  for word in words:\n",
    "    if word in result:\n",
    "      pass\n",
    "    else:\n",
    "      result.append(word)\n",
    "  return ' '. join(result)"
   ]
  }
 ],
 "metadata": {
  "language_info": {
   "name": "python"
  },
  "orig_nbformat": 4
 },
 "nbformat": 4,
 "nbformat_minor": 2
}
