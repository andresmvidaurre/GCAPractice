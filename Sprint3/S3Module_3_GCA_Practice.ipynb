{
 "cells": [
  {
   "cell_type": "markdown",
   "metadata": {},
   "source": [
    "Task 1:\n",
    "Given three values, return a new linked list containing those values.\n",
    "\n",
    "You have to wrap the values into ListNode() objects.\n",
    "\n",
    "JavaScript:\n",
    "\n",
    "const new_node = new ListNode(n);\n",
    "Python:\n",
    "\n",
    "new_node = ListNode(n)\n",
    "You do not need to uncomment the ListNode code in the header. That's just there for your reference.\n",
    "\n",
    "Note the the tests will show the linked lists as if they are arrays. This is just the visual representation; under the hood, it's a linked list with those values.\n",
    "\n",
    "Return a reference to the head of the new list."
   ]
  },
  {
   "cell_type": "code",
   "execution_count": null,
   "metadata": {},
   "outputs": [],
   "source": [
    "def solution(a, b, c):\n",
    "    x = ListNode(a)\n",
    "    y = ListNode(b)\n",
    "    z = ListNode(c)\n",
    "    \n",
    "    x.next = y\n",
    "    y.next = z\n",
    "    \n",
    "    return x"
   ]
  },
  {
   "cell_type": "markdown",
   "metadata": {},
   "source": [
    "Task 2:\n",
    "Given a list, return length of the list--i,e, the number of nodes in the list.\n",
    "\n",
    "You do not need to uncomment the ListNode code in the header. That's just there for your reference.\n",
    "\n",
    "Note the the tests will show the linked lists as if they are arrays. This is just the visual representation; under the hood, it's a linked list with those values."
   ]
  },
  {
   "cell_type": "code",
   "execution_count": null,
   "metadata": {},
   "outputs": [],
   "source": [
    "def solution(head):\n",
    "    current_node = head\n",
    "    count = 0\n",
    "    while current_node is not None:\n",
    "        current_node = current_node.next\n",
    "        count += 1\n",
    "    return count"
   ]
  },
  {
   "cell_type": "markdown",
   "metadata": {},
   "source": [
    "Task 3:\n",
    "Given a list, return the sum of all the values in the list.\n",
    "\n",
    "If the input list is empty, return 0.\n",
    "\n",
    "You do not need to uncomment the ListNode code in the header. That's just there for your reference.\n",
    "\n",
    "Note the the tests will show the linked lists as if they are arrays. This is just the visual representation; under the hood, it's a linked list with those values."
   ]
  },
  {
   "cell_type": "code",
   "execution_count": null,
   "metadata": {},
   "outputs": [],
   "source": [
    "def solution(head):\n",
    "    total = 0\n",
    "    current_node = head\n",
    "    while current_node is not None:\n",
    "        total += current_node.value\n",
    "        current_node = current_node.next\n",
    "    return total "
   ]
  },
  {
   "cell_type": "markdown",
   "metadata": {},
   "source": [
    "Task 4:\n",
    "Given a list, return the value of the tail node in the list.\n",
    "\n",
    "If the input list is empty, return -9999.\n",
    "\n",
    "You do not need to uncomment the ListNode code in the header. That's just there for your reference.\n",
    "\n",
    "Note the the tests will show the linked lists as if they are arrays. This is just the visual representation; under the hood, it's a linked list with those values."
   ]
  },
  {
   "cell_type": "code",
   "execution_count": null,
   "metadata": {},
   "outputs": [],
   "source": [
    "def solution(a):\n",
    "    if a is None:\n",
    "        return -9999\n",
    "    current_node = a\n",
    "    while current_node.next is not None:\n",
    "        current_node = current_node.next\n",
    "    return current_node.value"
   ]
  },
  {
   "cell_type": "markdown",
   "metadata": {},
   "source": [
    "Task 5:\n",
    "Insert a new value at the head of a linked list.\n",
    "\n",
    "You have to wrap the value n into a ListNode() object.\n",
    "\n",
    "JavaScript:\n",
    "\n",
    "const new_node = new ListNode(n);\n",
    "Python:\n",
    "\n",
    "new_node = ListNode(n)\n",
    "You do not need to uncomment the ListNode code in the header. That's just there for your reference.\n",
    "\n",
    "Note the the tests will show the linked lists as if they are arrays. This is just the visual representation; under the hood, it's a linked list with those values.\n",
    "\n",
    "Return a reference to the new head of the list."
   ]
  },
  {
   "cell_type": "code",
   "execution_count": null,
   "metadata": {},
   "outputs": [],
   "source": [
    "def solution(n, a):\n",
    "    new_node = ListNode(n)\n",
    "    new_node.next = a\n",
    "    return new_node"
   ]
  },
  {
   "cell_type": "markdown",
   "metadata": {},
   "source": [
    "Task 6:\n",
    "Given a list and a value, append the value to the end of the list.\n",
    "\n",
    "You have to wrap the value into a ListNode() object.\n",
    "\n",
    "JavaScript:\n",
    "\n",
    "const new_node = new ListNode(n);\n",
    "Python:\n",
    "\n",
    "new_node = ListNode(n)\n",
    "You do not need to uncomment the ListNode code in the header. That's just there for your reference.\n",
    "\n",
    "Note the the tests will show the linked lists as if they are arrays. This is just the visual representation; under the hood, it's a linked list with those values.\n",
    "\n",
    "Return a reference to the head of the list."
   ]
  },
  {
   "cell_type": "code",
   "execution_count": null,
   "metadata": {},
   "outputs": [],
   "source": [
    "def solution(a, n):\n",
    "    new_node = ListNode(n)\n",
    "    if a is None:\n",
    "        return new_node\n",
    "    current_node = a\n",
    "    while current_node.next is not None:\n",
    "        current_node = current_node.next\n",
    "    current_node.next = new_node\n",
    "    return a"
   ]
  }
 ],
 "metadata": {
  "language_info": {
   "name": "python"
  },
  "orig_nbformat": 4
 },
 "nbformat": 4,
 "nbformat_minor": 2
}
