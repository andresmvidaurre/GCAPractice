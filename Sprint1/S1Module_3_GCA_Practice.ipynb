{
 "cells": [
  {
   "cell_type": "markdown",
   "metadata": {},
   "source": [
    "Task 1:\n",
    "Compute the factorial of an integer n. This is commonly written as n!, which is read as \"n factorial\".\n",
    "\n",
    "You must use a loop to solve this problem. You cannot hard-code the answers.\n",
    "\n",
    "The factorial of a number is the product of every integer between 1 and n.\n",
    "\n",
    "Special case: the factorial of 0 is defined to be 1."
   ]
  },
  {
   "cell_type": "code",
   "execution_count": null,
   "metadata": {},
   "outputs": [],
   "source": [
    "def solution(n):\n",
    "    if n == 0:\n",
    "        return 1\n",
    "    else:\n",
    "        total = 1\n",
    "        for i in range(1,n+1):\n",
    "            total *= i\n",
    "        return total"
   ]
  },
  {
   "cell_type": "markdown",
   "metadata": {},
   "source": [
    "Task 2:\n",
    "Compute the product of all numbers from a to b, inclusive."
   ]
  },
  {
   "cell_type": "code",
   "execution_count": null,
   "metadata": {},
   "outputs": [],
   "source": [
    "def solution(a, b):\n",
    "    total = 1\n",
    "    for i in range (a,b+1):\n",
    "        total *= i\n",
    "    return total"
   ]
  },
  {
   "cell_type": "markdown",
   "metadata": {},
   "source": [
    "Task 3:\n",
    "Return the length of a string.\n",
    "\n",
    "JavaScript: you can get the length with s.length.\n",
    "Python: you can get the length with len(s)."
   ]
  },
  {
   "cell_type": "code",
   "execution_count": null,
   "metadata": {},
   "outputs": [],
   "source": [
    "def solution(s):\n",
    "    return len(s)"
   ]
  },
  {
   "cell_type": "markdown",
   "metadata": {},
   "source": [
    "Task 4:\n",
    "Return the character at index n in a string s.\n",
    "\n",
    "If the index is out of range of the length of the string, return the string \"none\". Otherwise, return the character at that index."
   ]
  },
  {
   "cell_type": "code",
   "execution_count": null,
   "metadata": {},
   "outputs": [],
   "source": [
    "def solution(s, n):\n",
    "    if (n+1) > len(s) or n < 0 or len(s)==0:\n",
    "        return \"none\"\n",
    "    else:\n",
    "        return s[n]"
   ]
  },
  {
   "cell_type": "markdown",
   "metadata": {},
   "source": [
    "Task 5:\n",
    "Return an uppercase version of the input string.\n",
    "\n",
    "Characters that are already uppercase remain uppercase.\n",
    "\n",
    "Characters that aren't letters are unchanged."
   ]
  },
  {
   "cell_type": "code",
   "execution_count": null,
   "metadata": {},
   "outputs": [],
   "source": [
    "def solution(s):\n",
    "    return s.upper()"
   ]
  },
  {
   "cell_type": "markdown",
   "metadata": {},
   "source": [
    "Task 6:\n",
    "Return true if a string is all lowercase.\n",
    "\n",
    "Javascript: there's no built-in for this. We have to compare the string to a lowercase version of itself created with .toLowerCase().\n",
    "\n",
    "Python: you can use the built-in .islower() to determine this.\n",
    "\n",
    "One difference is that this technique on JavaScript will report punctuation as lowercase, but the Python version will not.\n"
   ]
  },
  {
   "cell_type": "code",
   "execution_count": null,
   "metadata": {},
   "outputs": [],
   "source": [
    "def solution(s):\n",
    "    return s.islower()"
   ]
  },
  {
   "cell_type": "markdown",
   "metadata": {},
   "source": [
    "Task 7:\n",
    "Count the number of occurrences of a letter in a string.\n",
    "\n",
    "Do not use any built-in count() style functions for this task."
   ]
  },
  {
   "cell_type": "code",
   "execution_count": null,
   "metadata": {},
   "outputs": [],
   "source": [
    "def solution(s, letter):\n",
    "    count = 0\n",
    "    for char in s:\n",
    "        if char == letter:\n",
    "            count += 1\n",
    "    return count"
   ]
  },
  {
   "cell_type": "markdown",
   "metadata": {},
   "source": [
    "Task 8:\n",
    "Given a number, return the number of digits.\n",
    "\n",
    "Hint:\n",
    "\n",
    "JavaScript: you can convert a number to a string with the String() function.\n",
    "Python: you can convert a number to a string with the str() function."
   ]
  },
  {
   "cell_type": "code",
   "execution_count": null,
   "metadata": {},
   "outputs": [],
   "source": [
    "def solution(n):\n",
    "    x = str(n)\n",
    "    return len(x)"
   ]
  },
  {
   "cell_type": "markdown",
   "metadata": {},
   "source": [
    "Task 9:\n",
    "Return the index of the last character in a string. If the string is empty, return -1."
   ]
  },
  {
   "cell_type": "code",
   "execution_count": null,
   "metadata": {},
   "outputs": [],
   "source": [
    "def solution(s):\n",
    "    if len(s) == 0:\n",
    "        return -1\n",
    "    else:\n",
    "        return len(s)-1"
   ]
  },
  {
   "cell_type": "markdown",
   "metadata": {},
   "source": [
    "Task 10:\n",
    "Return the last character in a string. If the string is empty, return \"none\"."
   ]
  },
  {
   "cell_type": "code",
   "execution_count": null,
   "metadata": {},
   "outputs": [],
   "source": [
    "def solution(s):\n",
    "    if len(s) == 0:\n",
    "        return \"none\"\n",
    "    else:\n",
    "        return s[-1]"
   ]
  },
  {
   "cell_type": "markdown",
   "metadata": {},
   "source": [
    "Task 11:\n",
    "Return true if the first and second characters in the string are equal."
   ]
  },
  {
   "cell_type": "code",
   "execution_count": null,
   "metadata": {},
   "outputs": [],
   "source": [
    "def solution(s):\n",
    "    return s[0] == s[1]"
   ]
  },
  {
   "cell_type": "markdown",
   "metadata": {},
   "source": [
    "Task 12:\n",
    "Return true if the first and last characters in the string are equal."
   ]
  },
  {
   "cell_type": "code",
   "execution_count": null,
   "metadata": {},
   "outputs": [],
   "source": [
    "def solution(s):\n",
    "    return s[0] == s[-1]"
   ]
  },
  {
   "cell_type": "markdown",
   "metadata": {},
   "source": [
    "Task 13:\n",
    "Return true if the last two characters in the string are equal."
   ]
  },
  {
   "cell_type": "code",
   "execution_count": null,
   "metadata": {},
   "outputs": [],
   "source": [
    "def solution(s):\n",
    "    return s[-1] == s[-2]"
   ]
  },
  {
   "cell_type": "markdown",
   "metadata": {},
   "source": [
    "Task 14:\n",
    "Return a lowercase version of the input string.\n",
    "\n",
    "Characters that are already lower case remain lowercase.\n",
    "\n",
    "Characters that aren't letters are unchanged."
   ]
  },
  {
   "cell_type": "code",
   "execution_count": null,
   "metadata": {},
   "outputs": [],
   "source": [
    "def solution(s):\n",
    "    return s.lower()"
   ]
  },
  {
   "cell_type": "markdown",
   "metadata": {},
   "source": [
    "Task 15:\n",
    "Return true if a string is all uppercase.\n",
    "\n",
    "Javascript: there's no built-in for this. We have to compare the string to a lowercase version of itself created with .toUpperCase().\n",
    "\n",
    "Python: you can use the built-in .isupper() to determine this.\n",
    "\n",
    "One difference is that this technique on JavaScript will report punctuation as uppercase, but the Python version will not."
   ]
  },
  {
   "cell_type": "code",
   "execution_count": null,
   "metadata": {},
   "outputs": [],
   "source": [
    "def solution(s):\n",
    "    if s.isupper() == True:\n",
    "        return True\n",
    "    else:\n",
    "        return False"
   ]
  },
  {
   "cell_type": "markdown",
   "metadata": {},
   "source": [
    "Task 16:\n",
    "For a given string, return a new string with asterisks (*) on each side of each letter.\n",
    "\n",
    "If the string is empty, return an empty string."
   ]
  },
  {
   "cell_type": "code",
   "execution_count": null,
   "metadata": {},
   "outputs": [],
   "source": [
    "def solution(s):\n",
    "    if len(s) == 0:\n",
    "        return s\n",
    "    else:\n",
    "        string = ''\n",
    "        for char in s:\n",
    "            string += ('*' + char + '*')\n",
    "        return string"
   ]
  },
  {
   "cell_type": "markdown",
   "metadata": {},
   "source": [
    "Task 17:\n",
    "For a given string, return a new string with asterisks (*) on each side of each letter.\n",
    "\n",
    "Do not use any built-in join()-style functionality for this task.\n",
    "\n",
    "If the string is empty, return a single asterisks."
   ]
  },
  {
   "cell_type": "code",
   "execution_count": null,
   "metadata": {},
   "outputs": [],
   "source": [
    "def solution(s):\n",
    "    if len(s) == 0:\n",
    "        return \"*\"\n",
    "    else:\n",
    "        string = '*'\n",
    "        for char in s:\n",
    "            string += (char + '*')\n",
    "        return string"
   ]
  },
  {
   "cell_type": "markdown",
   "metadata": {},
   "source": [
    "Task 18:\n",
    "For a given string, return the letter that's highest in the alphabet."
   ]
  },
  {
   "cell_type": "code",
   "execution_count": null,
   "metadata": {},
   "outputs": [],
   "source": [
    "def solution(s):\n",
    "    return max(s)"
   ]
  },
  {
   "cell_type": "markdown",
   "metadata": {},
   "source": [
    "Task 19:\n",
    "Construct a string of n capital \"A\"s."
   ]
  },
  {
   "cell_type": "code",
   "execution_count": null,
   "metadata": {},
   "outputs": [],
   "source": [
    "def solution(n):\n",
    "    string = \"A\" * n\n",
    "    return string"
   ]
  }
 ],
 "metadata": {
  "language_info": {
   "name": "python"
  },
  "orig_nbformat": 4
 },
 "nbformat": 4,
 "nbformat_minor": 2
}
