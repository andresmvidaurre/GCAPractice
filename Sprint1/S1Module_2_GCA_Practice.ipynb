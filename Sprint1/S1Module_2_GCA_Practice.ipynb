{
 "cells": [
  {
   "cell_type": "markdown",
   "metadata": {},
   "source": [
    "Task 1:\n",
    "Write a function that converts a string to an integer.\n",
    "\n",
    "JavaScript: you can do the conversion with the parseInt() function.\n",
    "Python: you can do this conversion with the int() function.\n",
    "The number in the string could be negative, but the built-in conversion function should handle this."
   ]
  },
  {
   "cell_type": "code",
   "execution_count": null,
   "metadata": {},
   "outputs": [],
   "source": [
    "def solution(s):\n",
    "    return int(s)\n"
   ]
  },
  {
   "cell_type": "markdown",
   "metadata": {},
   "source": [
    "Task 2:\n",
    "Write a function that converts a floating point number to a string.\n",
    "\n",
    "JavaScript: you can do the conversion with the String() function.\n",
    "Python: you can do this conversion with the str() function.\n",
    "The number could be negative, but the built-in conversion function should handle this."
   ]
  },
  {
   "cell_type": "code",
   "execution_count": null,
   "metadata": {},
   "outputs": [],
   "source": [
    "def solution(f):\n",
    "    return str(f)"
   ]
  },
  {
   "cell_type": "markdown",
   "metadata": {},
   "source": [
    "Task 3:\n",
    "Write a function that converts an integer to a floating point number.\n",
    "\n",
    "JavaScript: you can do the conversion with the parseFloat() function.\n",
    "Python: you can do this conversion with the float() function."
   ]
  },
  {
   "cell_type": "code",
   "execution_count": null,
   "metadata": {},
   "outputs": [],
   "source": [
    "def solution(i):\n",
    "    return float(i)"
   ]
  },
  {
   "cell_type": "markdown",
   "metadata": {},
   "source": [
    "Task 4:\n",
    "Write a function that converts a floating point number to a string with a specific number of digits past the decimal place."
   ]
  },
  {
   "cell_type": "code",
   "execution_count": null,
   "metadata": {},
   "outputs": [],
   "source": [
    "def solution(f, places):\n",
    "    return f'{f:.{places}f}'"
   ]
  },
  {
   "cell_type": "markdown",
   "metadata": {},
   "source": [
    "Task 5:\n",
    "Write a function that computes the absolute value of a number.\n",
    "\n",
    "Solve this first without using the built-in absolute value function.\n",
    "\n",
    "The absolute value of a negative number is that number without the negative sign.\n",
    "\n",
    "The absolute value of a non-negative number is the number.\n",
    "\n",
    "Once you solve this without using the built-in functions, you can do it again with the built-ins, if you wish:"
   ]
  },
  {
   "cell_type": "code",
   "execution_count": null,
   "metadata": {},
   "outputs": [],
   "source": [
    "def solution(x):\n",
    "    y = abs(x)\n",
    "    return y"
   ]
  },
  {
   "cell_type": "markdown",
   "metadata": {},
   "source": [
    "Task 6:\n",
    "Write a function that returns true if a number is between 2 and 7, exclusive. (That is, between 3 and 6, inclusive.)"
   ]
  },
  {
   "cell_type": "code",
   "execution_count": null,
   "metadata": {},
   "outputs": [],
   "source": [
    "def solution(n):\n",
    "    if n > 2 and n < 7:\n",
    "        return True\n",
    "    else:\n",
    "        return False"
   ]
  },
  {
   "cell_type": "markdown",
   "metadata": {},
   "source": [
    "Task 7:\n",
    "Write a function that converts an integer to a string.\n",
    "\n",
    "JavaScript: you can do the conversion with the String() function.\n",
    "Python: you can do this conversion with the str() function.\n",
    "The integer could be negative, but the built-in conversion function should handle this."
   ]
  },
  {
   "cell_type": "code",
   "execution_count": null,
   "metadata": {},
   "outputs": [],
   "source": [
    "def solution(i):\n",
    "    return str(i)"
   ]
  },
  {
   "cell_type": "markdown",
   "metadata": {},
   "source": [
    "Task 8:\n",
    "Write a function that converts a floating point number to an integer.\n",
    "\n",
    "JavaScript: you can do the conversion with the parseInt() function.\n",
    "Python: you can do this conversion with the int() function.\n",
    "The digits past the decimal point will be dropped."
   ]
  },
  {
   "cell_type": "code",
   "execution_count": null,
   "metadata": {},
   "outputs": [],
   "source": [
    "def solution(f):\n",
    "    return int(f)"
   ]
  },
  {
   "cell_type": "markdown",
   "metadata": {},
   "source": [
    "Task 9:\n",
    "Write a function that converts a string to a floating point number.\n",
    "\n",
    "JavaScript: you can do the conversion with the parseFloat() function.\n",
    "Python: you can do this conversion with the float() function.\n",
    "The string will contain a valid floating point number, positive or negative."
   ]
  },
  {
   "cell_type": "code",
   "execution_count": null,
   "metadata": {},
   "outputs": [],
   "source": [
    "def solution(s):\n",
    "    return float(s)"
   ]
  },
  {
   "cell_type": "markdown",
   "metadata": {},
   "source": [
    "Task 10:\n",
    "Normally, dividing by zero is a bad thing that will cause programs to crash. Write a safer division function\n",
    "that returns the division of two numbers (the numerator divided by the denominator) unless the denominator is 0, in which case it should return 0 instead of crashing."
   ]
  },
  {
   "cell_type": "code",
   "execution_count": null,
   "metadata": {},
   "outputs": [],
   "source": [
    "def solution(numerator, denominator):\n",
    "    if denominator != 0:\n",
    "        return numerator/denominator\n",
    "    else:\n",
    "        return 0"
   ]
  },
  {
   "cell_type": "markdown",
   "metadata": {},
   "source": [
    "Task 11:\n",
    "Return the larger of two numbers.\n",
    "\n",
    "If they're the same, return either one."
   ]
  },
  {
   "cell_type": "code",
   "execution_count": null,
   "metadata": {},
   "outputs": [],
   "source": [
    "def solution(a, b):\n",
    "    if a > b:\n",
    "        return a\n",
    "    elif a < b:\n",
    "        return b\n",
    "    else:\n",
    "        return a or b"
   ]
  },
  {
   "cell_type": "markdown",
   "metadata": {},
   "source": [
    "Task 12:\n",
    "Return the larger of two characters.\n",
    "\n",
    "For example, \"c\" is larger than \"a\" because \"c\" comes later in the alphabet.\n",
    "\n",
    "If the characters are the same, return either one.\n",
    "\n",
    "This can be done with a regular comparison operator like < or >.\n",
    "\n",
    "Entire strings can be compared this way. The results are in lexicographical order, which you can think of as alphabetical order, except it includes other characters."
   ]
  },
  {
   "cell_type": "code",
   "execution_count": null,
   "metadata": {},
   "outputs": [],
   "source": [
    "def solution(a, b):\n",
    "    if a > b:\n",
    "        return a\n",
    "    elif a < b:\n",
    "        return b\n",
    "    else:\n",
    "        return a or b"
   ]
  },
  {
   "cell_type": "markdown",
   "metadata": {},
   "source": [
    "Task 13:\n",
    "This function will analyze its input and return a string based on it.\n",
    "\n",
    "If the input is 0, return \"none\".\n",
    "If the input is 1, return \"one\".\n",
    "If the input is 2, return \"two\".\n",
    "If the input is anything else, return \"some\"."
   ]
  },
  {
   "cell_type": "code",
   "execution_count": null,
   "metadata": {},
   "outputs": [],
   "source": [
    "def solution(n):\n",
    "    if n == 0:\n",
    "        return \"none\"\n",
    "    elif n == 1:\n",
    "        return \"one\"\n",
    "    elif n == 2:\n",
    "        return \"two\"\n",
    "    else:\n",
    "        return \"some\""
   ]
  },
  {
   "cell_type": "markdown",
   "metadata": {},
   "source": [
    "Task 14:\n",
    "Return the larger of three numbers.\n",
    "\n",
    "If they're all the same, return any one."
   ]
  },
  {
   "cell_type": "code",
   "execution_count": null,
   "metadata": {},
   "outputs": [],
   "source": [
    "def solution(a, b, c):\n",
    "    if a > b and a > c:\n",
    "        return a\n",
    "    elif b > a and b > c:\n",
    "        return b\n",
    "    elif c > a and c > b:\n",
    "        return c\n",
    "    else:\n",
    "        return a or b or c"
   ]
  },
  {
   "cell_type": "markdown",
   "metadata": {},
   "source": [
    "Task 15:\n",
    "Return the largest of six numbers.\n",
    "\n",
    "Do not use any built-in maximum value function to solve this!\n",
    "\n",
    "There could be ties for largest.\n",
    "\n",
    "Hint:\n",
    "\n",
    "It's possible to do this without the AND operator--think of how you solve this problem as a human looking at a list of numbers of a piece of paper. Do you look at the first and compare to the rest, then look at the second and compare to the rest, then look at the third and compare to the rest? And so on for all the numbers?\n",
    "\n",
    "Or is your algorithm simpler than that?"
   ]
  },
  {
   "cell_type": "code",
   "execution_count": null,
   "metadata": {},
   "outputs": [],
   "source": [
    "def solution(a, b, c, d, e, f):\n",
    "    list = [a,b,c,d,e,f]\n",
    "    list.sort(reverse=True)\n",
    "    return list[0]"
   ]
  },
  {
   "cell_type": "markdown",
   "metadata": {},
   "source": [
    "Task 16:\n",
    "This function will run a set of tests on three numbers. If the test passes, the function will return the string \"OK\". Otherwise it returns \"NOK\".\n",
    "\n",
    "The test passes if:\n",
    "\n",
    "a is greater than b AND\n",
    "b is less than or equal to c AND\n",
    "One of more of the following is true:\n",
    "a * 3 is greater than c OR\n",
    "c is less than or equal to a"
   ]
  },
  {
   "cell_type": "code",
   "execution_count": null,
   "metadata": {},
   "outputs": [],
   "source": [
    "def solution(a, b, c):\n",
    "    if a > b and b <= c and (((a*3)>c) or (c <= a)):\n",
    "        return 'OK'\n",
    "    else:\n",
    "        return 'NOK'"
   ]
  },
  {
   "cell_type": "markdown",
   "metadata": {},
   "source": [
    "Task 17:\n",
    "Write a function that takes an amount to withdraw from an account, along with the current balance.\n",
    "\n",
    "If there isn't enough in the account to make the withdrawal, return -1. Otherwise return the remaining balance after the withdrawal."
   ]
  },
  {
   "cell_type": "code",
   "execution_count": null,
   "metadata": {},
   "outputs": [],
   "source": [
    "def solution(amount, balance):\n",
    "    if amount <= balance:\n",
    "        return balance - amount\n",
    "    else:\n",
    "        return -1"
   ]
  }
 ],
 "metadata": {
  "language_info": {
   "name": "python"
  },
  "orig_nbformat": 4
 },
 "nbformat": 4,
 "nbformat_minor": 2
}
