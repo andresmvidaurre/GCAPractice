{
 "cells": [
  {
   "cell_type": "markdown",
   "metadata": {},
   "source": [
    "Task 1:\n",
    "Write a function that returns the length of an array."
   ]
  },
  {
   "cell_type": "code",
   "execution_count": null,
   "metadata": {},
   "outputs": [],
   "source": [
    "def solution(a):\n",
    "    return len(a)"
   ]
  },
  {
   "cell_type": "markdown",
   "metadata": {},
   "source": [
    "Task 2:\n",
    "This function accepts an array and an index.\n",
    "\n",
    "It should return the value at that index.\n",
    "\n",
    "If the index is out of range, it should return -999. (Out of range means less than 0 or greater than the maximum index of the array.)"
   ]
  },
  {
   "cell_type": "code",
   "execution_count": null,
   "metadata": {},
   "outputs": [],
   "source": [
    "def solution(a, index):\n",
    "    if index < 0 or index >= len(a):\n",
    "        return -999\n",
    "    else:\n",
    "        return a[index]"
   ]
  },
  {
   "cell_type": "markdown",
   "metadata": {},
   "source": [
    "Task 3:\n",
    "Write a function that prepends front and appends back to an array."
   ]
  },
  {
   "cell_type": "code",
   "execution_count": null,
   "metadata": {},
   "outputs": [],
   "source": [
    "def solution(a, front, back):\n",
    "    a.insert(0, front)\n",
    "    a.append(back)\n",
    "    return a"
   ]
  },
  {
   "cell_type": "markdown",
   "metadata": {},
   "source": [
    "Task 4:\n",
    "Write a function that deletes a value from an array a at index."
   ]
  },
  {
   "cell_type": "code",
   "execution_count": null,
   "metadata": {},
   "outputs": [],
   "source": [
    "def solution(a, index):\n",
    "    a.pop(index)\n",
    "    return a"
   ]
  },
  {
   "cell_type": "markdown",
   "metadata": {},
   "source": [
    "Task 5:\n",
    "Given a number, return the number of digits.\n",
    "\n",
    "You may not use strings to solve this challenge."
   ]
  },
  {
   "cell_type": "code",
   "execution_count": null,
   "metadata": {},
   "outputs": [],
   "source": [
    "def solution(n):\n",
    "    count = 0\n",
    "    while n!= 0:\n",
    "        n //= 10\n",
    "        count += 1\n",
    "    return count"
   ]
  },
  {
   "cell_type": "markdown",
   "metadata": {},
   "source": [
    "Task 6:\n",
    "This function should start computing the product of\n",
    "\n",
    "x * (x+1) * (x+2) * (x+3) * ...\n",
    "\n",
    "until the product becomes evenly divisible by 7. Then it should stop and return the product.\n",
    "\n",
    "If x is already divisible by 7, just return x"
   ]
  },
  {
   "cell_type": "code",
   "execution_count": null,
   "metadata": {},
   "outputs": [],
   "source": [
    "def solution(x):\n",
    "    n = x\n",
    "    total = x\n",
    "    while total % 7 != 0:\n",
    "        n += 1\n",
    "        total *= n\n",
    "    return total"
   ]
  },
  {
   "cell_type": "markdown",
   "metadata": {},
   "source": [
    "Task 7:\n",
    "Write a function that chops off the beginning and end of an array and puts them in a new array.\n",
    "\n",
    "An array containing the original array and the new array should be returned."
   ]
  },
  {
   "cell_type": "code",
   "execution_count": null,
   "metadata": {},
   "outputs": [],
   "source": [
    "def solution(a):\n",
    "    new_a = [a.pop(0),a.pop()]\n",
    "    return [a, new_a]"
   ]
  },
  {
   "cell_type": "markdown",
   "metadata": {},
   "source": [
    "Task 8:\n",
    "Write a function that inserts a new value in the middle of an array.\n",
    "\n",
    "The middle index is the length of the array divided by 2, rounded down."
   ]
  },
  {
   "cell_type": "code",
   "execution_count": null,
   "metadata": {},
   "outputs": [],
   "source": [
    "def solution(a, x):\n",
    "    index = (len(a)//2)\n",
    "    a.insert(index, x)\n",
    "    return a"
   ]
  },
  {
   "cell_type": "markdown",
   "metadata": {},
   "source": [
    "Task 9:\n",
    "This function accepts an array and a value to search for. It should return true if the value occurs anywhere in the array."
   ]
  },
  {
   "cell_type": "code",
   "execution_count": null,
   "metadata": {},
   "outputs": [],
   "source": [
    "def solution(a, v):\n",
    "    new_array = []\n",
    "    for i in range(len(a)-1, -1, -1):\n",
    "        if a[i] == v:\n",
    "            new_array.append(v)\n",
    "    if len(new_array) > 0:\n",
    "        return True\n",
    "    else:\n",
    "        return False"
   ]
  },
  {
   "cell_type": "markdown",
   "metadata": {},
   "source": [
    "Task 10:\n",
    "This function accepts an array. It should return an array with members that are equal to those in the original array multiplied by 2.\n",
    "\n",
    "You can modify the existing array and return it, or construct a new one.\n",
    "\n",
    "If the input array is empty, an empty array should be returned."
   ]
  },
  {
   "cell_type": "code",
   "execution_count": null,
   "metadata": {},
   "outputs": [],
   "source": [
    "def solution(a):\n",
    "    if len(a) == 0:\n",
    "        return a\n",
    "    else:\n",
    "        for i in range(len(a)-1, -1, -1):\n",
    "            a[i]*=2\n",
    "        return a"
   ]
  },
  {
   "cell_type": "markdown",
   "metadata": {},
   "source": [
    "Task 11:\n",
    "This function accepts an array. It should return the sum of all elements in the array.\n",
    "\n",
    "If the input array is empty, return 0."
   ]
  },
  {
   "cell_type": "code",
   "execution_count": null,
   "metadata": {},
   "outputs": [],
   "source": [
    "def solution(a):\n",
    "    if len(a) == 0:\n",
    "        return 0\n",
    "    else:\n",
    "        x = 0\n",
    "        for i in range(len(a)-1, -1, -1):\n",
    "            x += a[i]\n",
    "        return x"
   ]
  },
  {
   "cell_type": "markdown",
   "metadata": {},
   "source": [
    "Task 12:\n",
    "Construct a string of n capital \"A\"s followed by a string of m capital \"B\"s."
   ]
  },
  {
   "cell_type": "code",
   "execution_count": null,
   "metadata": {},
   "outputs": [],
   "source": [
    "def solution(n, m):\n",
    "    x = ('A' * n) + ('B' * m)\n",
    "    return x"
   ]
  },
  {
   "cell_type": "markdown",
   "metadata": {},
   "source": [
    "Task 13:\n",
    "Construct a string made from every other character in the input string.\n",
    "\n",
    "The first character of the input string will be the first character in the output string.\n",
    "\n",
    "If the input string is empty, return an empty string"
   ]
  },
  {
   "cell_type": "code",
   "execution_count": null,
   "metadata": {},
   "outputs": [],
   "source": [
    "def solution(s):\n",
    "    if len(s) == 0:\n",
    "        return s\n",
    "    else:\n",
    "        a = s[0]\n",
    "        for i in range(len(s)-1):\n",
    "            if i == 0:\n",
    "                pass\n",
    "            elif i % 2 != 0:\n",
    "                pass\n",
    "            else:\n",
    "                a += s[i]\n",
    "        return a"
   ]
  },
  {
   "cell_type": "markdown",
   "metadata": {},
   "source": [
    "Task 14:\n",
    "Construct a string made from every other character in the input string, excluding vowels.\n",
    "\n",
    "The first character of the input string will be the first character in the output string.\n",
    "\n",
    "If the input string is empty, return an empty string\n",
    "\n",
    "For the purpose of this assignment, \"y\" is NOT considered a vowel, only \"a\", \"e\", \"i\", \"o\", and \"u\"."
   ]
  },
  {
   "cell_type": "code",
   "execution_count": null,
   "metadata": {},
   "outputs": [],
   "source": [
    "def solution(s):\n",
    "    vowels = [\"a\", \"e\", \"i\", \"o\", \"u\"]\n",
    "    newstring = s[::2]\n",
    "    for x in newstring:\n",
    "        if x in vowels:\n",
    "            newstring = newstring.replace(x, \"\")\n",
    "    return newstring"
   ]
  },
  {
   "cell_type": "markdown",
   "metadata": {},
   "source": [
    "Task 15:\n",
    "Construct a string made from every other character in the input string, excluding vowels and capital letters.\n",
    "\n",
    "The first character of the input string will be the first character in the output string.\n",
    "\n",
    "If the input string is empty, return an empty string.\n",
    "\n",
    "For the purpose of this assignment, \"y\" is NOT considered a vowel, only \"a\", \"e\", \"i\", \"o\", and \"u\"."
   ]
  },
  {
   "cell_type": "code",
   "execution_count": null,
   "metadata": {},
   "outputs": [],
   "source": [
    "def solution(s):\n",
    "    vowels = ['a', 'e', 'i', 'o', 'u']\n",
    "    new_string = s[::2]\n",
    "    for x in new_string:\n",
    "        if (x in vowels) or (x.isupper()== True):\n",
    "            new_string = new_string.replace(x, '')\n",
    "    return new_string"
   ]
  },
  {
   "cell_type": "markdown",
   "metadata": {},
   "source": [
    "Task 16:\n",
    "Given a number and a field width, return a string with that number padded with leading zeros.\n",
    "\n",
    "The field width is the total number of digits in the result string, not the number of zeros.\n",
    "\n",
    "If the width is smaller than the number of digits in the n, return a string containing only n."
   ]
  },
  {
   "cell_type": "code",
   "execution_count": null,
   "metadata": {},
   "outputs": [],
   "source": [
    "def solution(n, width):\n",
    "    x = str(n)\n",
    "    if width < len(x):\n",
    "        return x\n",
    "    else:\n",
    "        return x.zfill(width)"
   ]
  },
  {
   "cell_type": "markdown",
   "metadata": {},
   "source": [
    "Task 17:\n",
    "Construct a string of p copies of n capital \"A\"s and m capital \"B\"s."
   ]
  },
  {
   "cell_type": "code",
   "execution_count": null,
   "metadata": {},
   "outputs": [],
   "source": [
    "def solution(p, n, m):\n",
    "    n *= 'A'\n",
    "    m *= 'B'\n",
    "    return (n+m) * p"
   ]
  }
 ],
 "metadata": {
  "language_info": {
   "name": "python"
  },
  "orig_nbformat": 4
 },
 "nbformat": 4,
 "nbformat_minor": 2
}
