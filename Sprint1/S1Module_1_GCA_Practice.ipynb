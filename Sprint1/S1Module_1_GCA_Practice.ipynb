{
 "cells": [
  {
   "cell_type": "markdown",
   "metadata": {},
   "source": [
    "Task 1:\n",
    "Write a function that returns the sum of two numbers."
   ]
  },
  {
   "cell_type": "code",
   "execution_count": null,
   "metadata": {},
   "outputs": [],
   "source": [
    "def solution(arg1, arg2):\n",
    "    return arg1 + arg2"
   ]
  },
  {
   "cell_type": "markdown",
   "metadata": {},
   "source": [
    "Task 2:\n",
    "Write a function that returns the product of two numbers."
   ]
  },
  {
   "cell_type": "code",
   "execution_count": null,
   "metadata": {},
   "outputs": [],
   "source": [
    "def solution(arg1, arg2):\n",
    "    return arg1 * arg2"
   ]
  },
  {
   "cell_type": "markdown",
   "metadata": {},
   "source": [
    "Task 3:\n",
    "Write a function that performs a sequence of mathematical operations by reassigning the results into the same variable.\n",
    "\n",
    "Even though this could be a one-liner, only use a single additional variable for this, and do each step as an independent operation.\n",
    "\n",
    "Add 7 to the number.\n",
    "Divide the result by 2 (the result could be fractional).\n",
    "Multiply that result by 5.\n",
    "Return the result."
   ]
  },
  {
   "cell_type": "code",
   "execution_count": null,
   "metadata": {},
   "outputs": [],
   "source": [
    "def solution(n):\n",
    "    x = n + 7\n",
    "    y = x / 2\n",
    "    z = y * 5\n",
    "    return z"
   ]
  },
  {
   "cell_type": "markdown",
   "metadata": {},
   "source": [
    "Task 4:\n",
    "Write a function that computes the sum of all values between 1 and n, inclusive.\n",
    "\n",
    "There is a formula you can use to compute this:"
   ]
  },
  {
   "cell_type": "code",
   "execution_count": null,
   "metadata": {},
   "outputs": [],
   "source": [
    "def solution(n):\n",
    "    y = n * (n+1) / 2\n",
    "    return y"
   ]
  },
  {
   "cell_type": "markdown",
   "metadata": {},
   "source": [
    "Task 5:\n",
    "From the year you were born until now is a certain number of years. What year was it that many years before your birth year?\n",
    "\n",
    "For example, if a person was born in 2000 and it is now 2021, their \"flip year\" would be 1979. (Because they are 21 years old, and there are 21 years between 1979 and 2000.)"
   ]
  },
  {
   "cell_type": "code",
   "execution_count": null,
   "metadata": {},
   "outputs": [],
   "source": [
    "def solution(birth_year, current_year):\n",
    "    d = current_year - birth_year\n",
    "    return birth_year - d"
   ]
  },
  {
   "cell_type": "markdown",
   "metadata": {},
   "source": [
    "Task 6:\n",
    "Write a function that computes the sum of all values between n and m, inclusive.\n",
    "\n",
    "There is a formula you can use to compute the sum from 1 to n:\n",
    "\n",
    "total = n * (n + 1) / 2\n",
    "But we've misplaced the formula for the sum from n to m!\n",
    "\n",
    "Think outside the box... is there some way to use that formula, n, and m to get the answer? You don't have to come up with a new formula; there's a way to use the existing one to solve it."
   ]
  },
  {
   "cell_type": "code",
   "execution_count": null,
   "metadata": {},
   "outputs": [],
   "source": [
    "def solution(n, m):\n",
    "    x = sum(range(n,m+1))\n",
    "    return x"
   ]
  }
 ],
 "metadata": {
  "interpreter": {
   "hash": "b439bf58ee14d19d6e04c4c8ce362ca0d8eec863900a9c9b36576c50d9e33481"
  },
  "kernelspec": {
   "display_name": "Python 3.9.7 64-bit ('base': conda)",
   "language": "python",
   "name": "python3"
  },
  "language_info": {
   "name": "python",
   "version": "3.9.7"
  },
  "orig_nbformat": 4
 },
 "nbformat": 4,
 "nbformat_minor": 2
}
